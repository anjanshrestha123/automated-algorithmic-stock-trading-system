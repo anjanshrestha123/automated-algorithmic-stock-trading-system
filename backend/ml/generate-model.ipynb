{
 "cells": [
  {
   "cell_type": "markdown",
   "metadata": {
    "id": "ugEzjcGDWiGB"
   },
   "source": [
    "# Technical Analysis for Stock Price Prediction Using LSTM #\n",
    "Team Members: Anjan Shrestha, Balaji Mandava, Byanagari Rohith, Naresh Balla, Bhargav Ram Pushadapu\n",
    "\n",
    "Group Number: 8"
   ]
  },
  {
   "cell_type": "markdown",
   "metadata": {
    "id": "hu2FrTURWiGF",
    "tags": []
   },
   "source": [
    "### Import and Packages ###"
   ]
  },
  {
   "cell_type": "code",
   "execution_count": 1,
   "metadata": {
    "colab": {
     "base_uri": "https://localhost:8080/"
    },
    "id": "1Pp5y4R9WiGF",
    "outputId": "33188a07-1e2e-4d0b-bfe7-8c804fb2275d"
   },
   "outputs": [],
   "source": [
    "# For dealing with dataframe\n",
    "import pandas as pd\n",
    "\n",
    "# For dealing with np array\n",
    "import numpy as np\n",
    "\n",
    "# For calling yahoo finance to get stock price \n",
    "import yfinance as yf\n",
    "import datetime as dt\n",
    "from datetime import timedelta\n",
    "import math \n",
    "import os\n",
    "\n",
    "# For exporting trained model\n",
    "import pickle\n",
    "\n",
    "# For plotting\n",
    "import matplotlib.pyplot as plt\n",
    "\n",
    "# For model\n",
    "import math\n",
    "from sklearn.preprocessing import MinMaxScaler\n",
    "from tensorflow.keras.models import Sequential\n",
    "from tensorflow.keras.layers import Dense\n",
    "from tensorflow.keras.layers import LSTM\n",
    "from sklearn.metrics import mean_squared_error"
   ]
  },
  {
   "cell_type": "markdown",
   "metadata": {
    "id": "IBmRdGxvvccA"
   },
   "source": [
    "### Model Properties ###"
   ]
  },
  {
   "cell_type": "code",
   "execution_count": 2,
   "metadata": {
    "id": "skV3nY6pv-kA"
   },
   "outputs": [],
   "source": [
    "# Dataset Properties\n",
    "DATE = 'Date'\n",
    "CLOSE = 'Close'\n",
    "VOLUME = 'Volume'\n",
    "\n",
    "# Stock Properties \n",
    "STOCK_TICKER = os.environ['STOCK_TICKER'] if 'STOCK_TICKER' in os.environ else 'AAPL' # Retrive stock ticker from environment variable\n",
    "\n",
    "# Target\n",
    "NUMBER_OF_DAYS_TO_PREDICT = 30 # Target Stock Trend\n",
    "\n",
    "# Custom Hyperparameters\n",
    "NUMBER_OF_INTERVAL_FOR_PRICE_PREDICTION = 20\n",
    "\n",
    "# LSTM Hyperparameters\n",
    "NUMBER_OF_EPOCH = 25\n",
    "BATCH_SIZE = 30"
   ]
  },
  {
   "cell_type": "markdown",
   "metadata": {
    "id": "A1R9zQJgWiGH",
    "tags": []
   },
   "source": [
    "##  1. Extract Raw data and Dataset Creation ##\n",
    "Calling Yahoo Finance API to extract data for last 'n' years from current date and convert it to dataframe"
   ]
  },
  {
   "cell_type": "code",
   "execution_count": 3,
   "metadata": {
    "id": "FHpyMSK1WiGH"
   },
   "outputs": [
    {
     "name": "stdout",
     "output_type": "stream",
     "text": [
      "2023-03-13 15:29:37.624807\n",
      "[*********************100%***********************]  1 of 1 completed\n",
      "2023-03-20 15:29:38.089516\n",
      "[*********************100%***********************]  1 of 1 completed\n",
      "2023-03-27 15:29:38.406474\n",
      "[*********************100%***********************]  1 of 1 completed\n",
      "2023-04-03 15:29:38.750178\n",
      "[*********************100%***********************]  1 of 1 completed\n",
      "2023-04-10 15:29:39.062651\n",
      "[*********************100%***********************]  1 of 1 completed\n"
     ]
    }
   ],
   "source": [
    "df = pd.DataFrame()\n",
    "\n",
    "# Loop call to yfinance API since data can be fetched for 7 days at once with maximum of 30 days\n",
    "total_days = 29\n",
    "for n in range(math.ceil(total_days/7)):\n",
    "    days = total_days - n*7 \n",
    "        \n",
    "    start_date = dt.datetime.today() - dt.timedelta(days=days)\n",
    "    print(start_date)\n",
    "\n",
    "    end_date = dt.datetime.today() - dt.timedelta(days= (days - 7 if days > 7  else 0))\n",
    "    df = pd.concat([df, yf.download(STOCK_TICKER, start=start_date, end=end_date, interval='1m')])"
   ]
  },
  {
   "cell_type": "code",
   "execution_count": 17,
   "metadata": {},
   "outputs": [
    {
     "data": {
      "text/plain": [
       "(7786, 6)"
      ]
     },
     "execution_count": 17,
     "metadata": {},
     "output_type": "execute_result"
    }
   ],
   "source": [
    "df.shape\n"
   ]
  },
  {
   "cell_type": "code",
   "execution_count": 18,
   "metadata": {
    "scrolled": true
   },
   "outputs": [
    {
     "data": {
      "text/html": [
       "<div>\n",
       "<style scoped>\n",
       "    .dataframe tbody tr th:only-of-type {\n",
       "        vertical-align: middle;\n",
       "    }\n",
       "\n",
       "    .dataframe tbody tr th {\n",
       "        vertical-align: top;\n",
       "    }\n",
       "\n",
       "    .dataframe thead th {\n",
       "        text-align: right;\n",
       "    }\n",
       "</style>\n",
       "<table border=\"1\" class=\"dataframe\">\n",
       "  <thead>\n",
       "    <tr style=\"text-align: right;\">\n",
       "      <th></th>\n",
       "      <th>Open</th>\n",
       "      <th>High</th>\n",
       "      <th>Low</th>\n",
       "      <th>Close</th>\n",
       "      <th>Adj Close</th>\n",
       "      <th>Volume</th>\n",
       "    </tr>\n",
       "    <tr>\n",
       "      <th>Datetime</th>\n",
       "      <th></th>\n",
       "      <th></th>\n",
       "      <th></th>\n",
       "      <th></th>\n",
       "      <th></th>\n",
       "      <th></th>\n",
       "    </tr>\n",
       "  </thead>\n",
       "  <tbody>\n",
       "    <tr>\n",
       "      <th>2023-03-13 15:30:00-04:00</th>\n",
       "      <td>151.050003</td>\n",
       "      <td>151.300003</td>\n",
       "      <td>151.009995</td>\n",
       "      <td>151.145004</td>\n",
       "      <td>151.145004</td>\n",
       "      <td>0</td>\n",
       "    </tr>\n",
       "    <tr>\n",
       "      <th>2023-03-13 15:31:00-04:00</th>\n",
       "      <td>151.139999</td>\n",
       "      <td>151.179993</td>\n",
       "      <td>151.020004</td>\n",
       "      <td>151.160904</td>\n",
       "      <td>151.160904</td>\n",
       "      <td>129968</td>\n",
       "    </tr>\n",
       "    <tr>\n",
       "      <th>2023-03-13 15:32:00-04:00</th>\n",
       "      <td>151.160004</td>\n",
       "      <td>151.255005</td>\n",
       "      <td>151.000000</td>\n",
       "      <td>151.009995</td>\n",
       "      <td>151.009995</td>\n",
       "      <td>191684</td>\n",
       "    </tr>\n",
       "    <tr>\n",
       "      <th>2023-03-13 15:33:00-04:00</th>\n",
       "      <td>151.000000</td>\n",
       "      <td>151.350006</td>\n",
       "      <td>150.980103</td>\n",
       "      <td>151.279999</td>\n",
       "      <td>151.279999</td>\n",
       "      <td>192353</td>\n",
       "    </tr>\n",
       "    <tr>\n",
       "      <th>2023-03-13 15:34:00-04:00</th>\n",
       "      <td>151.279999</td>\n",
       "      <td>151.360001</td>\n",
       "      <td>151.210007</td>\n",
       "      <td>151.250000</td>\n",
       "      <td>151.250000</td>\n",
       "      <td>124118</td>\n",
       "    </tr>\n",
       "  </tbody>\n",
       "</table>\n",
       "</div>"
      ],
      "text/plain": [
       "                                 Open        High         Low       Close  \\\n",
       "Datetime                                                                    \n",
       "2023-03-13 15:30:00-04:00  151.050003  151.300003  151.009995  151.145004   \n",
       "2023-03-13 15:31:00-04:00  151.139999  151.179993  151.020004  151.160904   \n",
       "2023-03-13 15:32:00-04:00  151.160004  151.255005  151.000000  151.009995   \n",
       "2023-03-13 15:33:00-04:00  151.000000  151.350006  150.980103  151.279999   \n",
       "2023-03-13 15:34:00-04:00  151.279999  151.360001  151.210007  151.250000   \n",
       "\n",
       "                            Adj Close  Volume  \n",
       "Datetime                                       \n",
       "2023-03-13 15:30:00-04:00  151.145004       0  \n",
       "2023-03-13 15:31:00-04:00  151.160904  129968  \n",
       "2023-03-13 15:32:00-04:00  151.009995  191684  \n",
       "2023-03-13 15:33:00-04:00  151.279999  192353  \n",
       "2023-03-13 15:34:00-04:00  151.250000  124118  "
      ]
     },
     "execution_count": 18,
     "metadata": {},
     "output_type": "execute_result"
    }
   ],
   "source": [
    "df.head(5)\n",
    "\n"
   ]
  },
  {
   "cell_type": "markdown",
   "metadata": {
    "id": "enQKrnCPy-B-",
    "tags": []
   },
   "source": [
    "## 2. Exploratory Data Analysis"
   ]
  },
  {
   "cell_type": "code",
   "execution_count": 6,
   "metadata": {
    "colab": {
     "base_uri": "https://localhost:8080/",
     "height": 578
    },
    "id": "uwkCH-rOWiGL",
    "outputId": "e2fe0944-a037-4740-ea01-0952d793e3be"
   },
   "outputs": [
    {
     "data": {
      "text/plain": [
       "<AxesSubplot:title={'center':'Stock Price Movement for last 30 days'}, xlabel='Datetime', ylabel='Stock Price'>"
      ]
     },
     "execution_count": 6,
     "metadata": {},
     "output_type": "execute_result"
    },
    {
     "data": {
      "image/png": "[encoded data removed]",
      "text/plain": [
       "<Figure size 1080x720 with 1 Axes>"
      ]
     },
     "metadata": {
      "needs_background": "light"
     },
     "output_type": "display_data"
    }
   ],
   "source": [
    "# Plotting the graph visualizing price change with date\n",
    "df.plot(y=[CLOSE],figsize=(15,10), ylabel='Stock Price', title='Stock Price Movement for last 30 days')"
   ]
  },
  {
   "cell_type": "code",
   "execution_count": 7,
   "metadata": {},
   "outputs": [
    {
     "data": {
      "text/plain": [
       "<matplotlib.legend.Legend at 0x7faea2b29c40>"
      ]
     },
     "execution_count": 7,
     "metadata": {},
     "output_type": "execute_result"
    },
    {
     "data": {
      "image/png": "[encoded data removed]",
      "text/plain": [
       "<Figure size 1080x720 with 1 Axes>"
      ]
     },
     "metadata": {
      "needs_background": "light"
     },
     "output_type": "display_data"
    }
   ],
   "source": [
    "# Plotting moving average\n",
    "plt.figure(figsize=(15,10))\n",
    "df[CLOSE].rolling(window=20).mean().plot(label='20 Minute Average')\n",
    "df[CLOSE].plot(label='Closing Price', title='20 Minute Moving Average')\n",
    "plt.legend()"
   ]
  },
  {
   "cell_type": "markdown",
   "metadata": {
    "id": "48IzLP-D2i4d"
   },
   "source": [
    "## 3. Feature Selection ##"
   ]
  },
  {
   "cell_type": "code",
   "execution_count": 8,
   "metadata": {
    "colab": {
     "base_uri": "https://localhost:8080/"
    },
    "id": "rFq26cgE3PVh",
    "outputId": "d3e7b56e-0599-479f-f7c3-d9a52566652a"
   },
   "outputs": [],
   "source": [
    "# Function to extract Stock Closing Price as a Feature from Dataframe\n",
    "model_df = df.reset_index()[CLOSE]\n",
    "\n",
    "scaler = MinMaxScaler(feature_range=(0,1))\n",
    "model_df = scaler.fit_transform(np.array(model_df).reshape(-1,1))"
   ]
  },
  {
   "cell_type": "markdown",
   "metadata": {
    "id": "_SWL5fhk2zWo"
   },
   "source": [
    "## 4. Split Data into Train and Test ##"
   ]
  },
  {
   "cell_type": "code",
   "execution_count": 9,
   "metadata": {},
   "outputs": [],
   "source": [
    "# Splitting first 70% data into training set and last 30% into testing set\n",
    "train_index = 0.7 * model_df.shape[0]\n",
    "train_data = model_df[:int(train_index)]\n",
    "test_data = model_df[int(train_index):]"
   ]
  },
  {
   "cell_type": "code",
   "execution_count": 10,
   "metadata": {
    "tags": []
   },
   "outputs": [],
   "source": [
    "# Function to create dataset into feature and target\n",
    "def create_dataset_lstm(dataset, time_step=1):\n",
    "    dataX, dataY = [], []\n",
    "    for i in range(len(dataset) - time_step-1):\n",
    "        a = dataset[i:(i+time_step), 0]\n",
    "        dataX.append(a)\n",
    "        dataY.append(dataset[i+time_step, 0])\n",
    "    return np.array(dataX), np.array(dataY)"
   ]
  },
  {
   "cell_type": "code",
   "execution_count": 11,
   "metadata": {},
   "outputs": [],
   "source": [
    "# Creating training and testing dataset\n",
    "X_train, y_train = create_dataset_lstm(train_data, NUMBER_OF_INTERVAL_FOR_PRICE_PREDICTION)\n",
    "X_test, y_test = create_dataset_lstm(test_data, NUMBER_OF_INTERVAL_FOR_PRICE_PREDICTION)\n",
    "                \n",
    "# reshape input to be [samples, time steps, features] which is required for LSTM\n",
    "X_train = X_train.reshape(X_train.shape[0], X_train.shape[1], 1)\n",
    "X_test = X_test.reshape(X_test.shape[0], X_test.shape[1], 1)"
   ]
  },
  {
   "cell_type": "markdown",
   "metadata": {
    "id": "Tp7Z96nS0YiB"
   },
   "source": [
    "## 5. Training the model"
   ]
  },
  {
   "cell_type": "code",
   "execution_count": 12,
   "metadata": {
    "scrolled": true
   },
   "outputs": [
    {
     "data": {
      "text/plain": [
       "<keras.callbacks.History at 0x7faea2abba60>"
      ]
     },
     "execution_count": 12,
     "metadata": {},
     "output_type": "execute_result"
    }
   ],
   "source": [
    "model = Sequential()\n",
    "model.add(LSTM(50, return_sequences=True, input_shape=(NUMBER_OF_INTERVAL_FOR_PRICE_PREDICTION,1)))\n",
    "model.add(LSTM(50, return_sequences=True))\n",
    "model.add(LSTM(50))\n",
    "model.add(Dense(1))\n",
    "model.compile(loss='mean_squared_error', optimizer='adam', metrics=['accuracy'])\n",
    "\n",
    "model.fit(X_train, y_train, validation_data=(X_test, y_test), epochs=NUMBER_OF_EPOCH, batch_size=BATCH_SIZE, verbose=0)\n"
   ]
  },
  {
   "cell_type": "markdown",
   "metadata": {},
   "source": [
    "## 6. Evaluating the model"
   ]
  },
  {
   "cell_type": "code",
   "execution_count": 13,
   "metadata": {},
   "outputs": [],
   "source": [
    "y_pred = model.predict(X_test)\n",
    "y_pred = scaler.inverse_transform(y_pred)\n",
    "y_test = scaler.inverse_transform(np.array(y_test).reshape(-1,1))\n",
    "current_rmse = math.sqrt(mean_squared_error(y_pred, y_test))"
   ]
  },
  {
   "cell_type": "code",
   "execution_count": 14,
   "metadata": {},
   "outputs": [
    {
     "data": {
      "text/plain": [
       "0.22673504319473453"
      ]
     },
     "execution_count": 14,
     "metadata": {},
     "output_type": "execute_result"
    }
   ],
   "source": [
    "current_rmse\n"
   ]
  },
  {
   "cell_type": "markdown",
   "metadata": {},
   "source": [
    "## 7. Generating trained model to output file\n"
   ]
  },
  {
   "cell_type": "code",
   "execution_count": 15,
   "metadata": {},
   "outputs": [
    {
     "name": "stderr",
     "output_type": "stream",
     "text": [
      "2023-04-11 15:31:37.231085: W tensorflow/python/util/util.cc:368] Sets are not currently considered sequences, but this may change in the future, so consider avoiding using them.\n",
      "WARNING:absl:Found untraced functions such as lstm_cell_layer_call_fn, lstm_cell_layer_call_and_return_conditional_losses, lstm_cell_1_layer_call_fn, lstm_cell_1_layer_call_and_return_conditional_losses, lstm_cell_2_layer_call_fn while saving (showing 5 of 6). These functions will not be directly callable after loading.\n"
     ]
    },
    {
     "name": "stdout",
     "output_type": "stream",
     "text": [
      "INFO:tensorflow:Assets written to: ram://941c4285-8ccc-4ad8-a29a-15eb812bf77f/assets\n"
     ]
    },
    {
     "name": "stderr",
     "output_type": "stream",
     "text": [
      "INFO:tensorflow:Assets written to: ram://941c4285-8ccc-4ad8-a29a-15eb812bf77f/assets\n",
      "WARNING:absl:<keras.layers.recurrent.LSTMCell object at 0x7fae90b8c5b0> has the same name 'LSTMCell' as a built-in Keras object. Consider renaming <class 'keras.layers.recurrent.LSTMCell'> to avoid naming conflicts when loading with `tf.keras.models.load_model`. If renaming is not possible, pass the object in the `custom_objects` parameter of the load function.\n",
      "WARNING:absl:<keras.layers.recurrent.LSTMCell object at 0x7fae90bdcd60> has the same name 'LSTMCell' as a built-in Keras object. Consider renaming <class 'keras.layers.recurrent.LSTMCell'> to avoid naming conflicts when loading with `tf.keras.models.load_model`. If renaming is not possible, pass the object in the `custom_objects` parameter of the load function.\n",
      "WARNING:absl:<keras.layers.recurrent.LSTMCell object at 0x7fae51b73040> has the same name 'LSTMCell' as a built-in Keras object. Consider renaming <class 'keras.layers.recurrent.LSTMCell'> to avoid naming conflicts when loading with `tf.keras.models.load_model`. If renaming is not possible, pass the object in the `custom_objects` parameter of the load function.\n"
     ]
    }
   ],
   "source": [
    "# Output to pickle file\n",
    "output = {\n",
    "    'trained_model': model,\n",
    "    'latest_interval_data': np.array(model_df[len(model_df) - NUMBER_OF_INTERVAL_FOR_PRICE_PREDICTION:]),\n",
    "    'scaler': scaler,\n",
    "    'rmse': current_rmse\n",
    "}\n",
    "\n",
    "with open('./output/output-{}.pickle'.format(STOCK_TICKER), 'wb') as f:\n",
    "    pickle.dump(output, f)\n",
    "    \n",
    "    \n",
    "    "
   ]
  }
 ],
 "metadata": {
  "colab": {
   "collapsed_sections": [
    "paH53o2l0mxu",
    "6pcMPECE8UsG",
    "P_Pq0YrFWiGR"
   ],
   "include_colab_link": true,
   "name": "technical_analysis_for_stock_price_prediction.ipynb",
   "provenance": [],
   "toc_visible": true
  },
  "kernelspec": {
   "display_name": "Python 3 (ipykernel)",
   "language": "python",
   "name": "python3"
  },
  "language_info": {
   "codemirror_mode": {
    "name": "ipython",
    "version": 3
   },
   "file_extension": ".py",
   "mimetype": "text/x-python",
   "name": "python",
   "nbconvert_exporter": "python",
   "pygments_lexer": "ipython3",
   "version": "3.8.12"
  }
 },
 "nbformat": 4,
 "nbformat_minor": 4
}
